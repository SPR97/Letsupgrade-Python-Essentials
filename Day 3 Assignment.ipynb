{
 "cells": [
  {
   "cell_type": "code",
   "execution_count": 7,
   "metadata": {},
   "outputs": [
    {
     "name": "stdout",
     "output_type": "stream",
     "text": [
      "Enter altitude of plane2500\n",
      "Bring down to 1000\n"
     ]
    }
   ],
   "source": [
    "altitude=input(\"Enter altitude of plane\")\n",
    "altitude=int(altitude)\n",
    "if (altitude<=1000):\n",
    "    print(\"Safe to land\")\n",
    "elif (altitude>=1000 and altitude<5000):\n",
    "    print(\"Bring down to 1000\")\n",
    "else:\n",
    "    print(\"Turn around\")"
   ]
  },
  {
   "cell_type": "code",
   "execution_count": null,
   "metadata": {},
   "outputs": [],
   "source": []
  },
  {
   "cell_type": "code",
   "execution_count": 11,
   "metadata": {},
   "outputs": [
    {
     "name": "stdout",
     "output_type": "stream",
     "text": [
      "2,3,5,7,11,13,17,19,23,29,31,37,41,43,47,53,59,61,67,71,73,79,83,89,97,101,103,107,109,113,127,131,137,139,149,151,157,163,167,173,179,181,191,193,197,199,"
     ]
    }
   ],
   "source": [
    "number=2      \n",
    "while (number<201):\n",
    "  \n",
    "    for i in range(2,number):\n",
    "        if (number % i) == 0:\n",
    "            break\n",
    "    else:\n",
    "        print(number,end=',')\n",
    "       \n",
    "    number=number+1"
   ]
  },
  {
   "cell_type": "code",
   "execution_count": null,
   "metadata": {},
   "outputs": [],
   "source": []
  }
 ],
 "metadata": {
  "kernelspec": {
   "display_name": "Python 3",
   "language": "python",
   "name": "python3"
  }
 },
 "nbformat": 4,
 "nbformat_minor": 4
}

{
 "cells": [
  {
   "cell_type": "code",
   "execution_count": 3,
   "metadata": {},
   "outputs": [
    {
     "name": "stdout",
     "output_type": "stream",
     "text": [
      "The first armstrong number is - 1741725\n"
     ]
    }
   ],
   "source": [
    "num=1042000\n",
    "while(num<=702648265):\n",
    " order=len(str(num))  \n",
    " temp=num\n",
    " sum=0\n",
    " count=0\n",
    " while temp>0:\n",
    "    digit=temp%10\n",
    "    sum=sum+digit**order\n",
    "    temp=temp//10\n",
    "    if sum==num:\n",
    "        print (\"The first armstrong number is -\",num)\n",
    "        count=count+1\n",
    "        break\n",
    " num=num+1\n",
    " if count>0:\n",
    "        break\n",
    " "
   ]
  },
  {
   "cell_type": "code",
   "execution_count": null,
   "metadata": {},
   "outputs": [],
   "source": []
  }
 ],
 "metadata": {
  "kernelspec": {
   "display_name": "Python 3",
   "language": "python",
   "name": "python3"
  },
  "language_info": {
   "codemirror_mode": {
    "name": "ipython",
    "version": 3
   },
   "file_extension": ".py",
   "mimetype": "text/x-python",
   "name": "python",
   "nbconvert_exporter": "python",
   "pygments_lexer": "ipython3",
   "version": "3.8.3"
  }
 },
 "nbformat": 4,
 "nbformat_minor": 4
}

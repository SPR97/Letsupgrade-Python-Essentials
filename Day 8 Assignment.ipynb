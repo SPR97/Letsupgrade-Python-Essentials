{
 "cells": [
  {
   "cell_type": "code",
   "execution_count": 25,
   "metadata": {},
   "outputs": [],
   "source": [
    "def getinp(inputrange):\n",
    "    def wrap_function():\n",
    "        print (\"Enter range\")\n",
    "        x=int(input())\n",
    "        inputrange(x)\n",
    "    return wrap_function"
   ]
  },
  {
   "cell_type": "code",
   "execution_count": 30,
   "metadata": {},
   "outputs": [],
   "source": [
    "@getinp\n",
    "def Fibonacci(n):\n",
    "    a = 0\n",
    "    b = 1\n",
    "    c=0\n",
    "    for i in range(n):\n",
    "        print(c, end=' ');\n",
    "        a = b;\n",
    "        b = c;\n",
    "        c = a + b;"
   ]
  },
  {
   "cell_type": "code",
   "execution_count": 31,
   "metadata": {},
   "outputs": [
    {
     "name": "stdout",
     "output_type": "stream",
     "text": [
      "Enter range\n",
      "9\n",
      "0 1 1 2 3 5 8 13 21 "
     ]
    }
   ],
   "source": [
    "Fibonacci()"
   ]
  },
  {
   "cell_type": "code",
   "execution_count": 33,
   "metadata": {},
   "outputs": [
    {
     "name": "stdout",
     "output_type": "stream",
     "text": [
      "You do not have write access to this file\n"
     ]
    }
   ],
   "source": [
    "try:\n",
    "    file = open(\"mytextfile.txt\",\"r\")\n",
    "    file.write(\"Hello ,world!\")\n",
    "    file.close()\n",
    "    print(\"Success\")\n",
    "except Exception as e:\n",
    "    print(\"You do not have write access to this file\")"
   ]
  },
  {
   "cell_type": "code",
   "execution_count": null,
   "metadata": {},
   "outputs": [],
   "source": []
  }
 ],
 "metadata": {
  "kernelspec": {
   "display_name": "Python 3",
   "language": "python",
   "name": "python3"
  },
  "language_info": {
   "codemirror_mode": {
    "name": "ipython",
    "version": 3
   },
   "file_extension": ".py",
   "mimetype": "text/x-python",
   "name": "python",
   "nbconvert_exporter": "python",
   "pygments_lexer": "ipython3",
   "version": "3.8.3"
  }
 },
 "nbformat": 4,
 "nbformat_minor": 4
}

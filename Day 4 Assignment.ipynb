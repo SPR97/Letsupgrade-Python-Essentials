{
 "cells": [
  {
   "cell_type": "code",
   "execution_count": 32,
   "metadata": {},
   "outputs": [
    {
     "name": "stdout",
     "output_type": "stream",
     "text": [
      "1741725\n"
     ]
    }
   ],
   "source": [
    "num=1042000\n",
    "while(num<=702648265):\n",
    " order=len(str(num))  \n",
    " temp=num\n",
    " sum=0\n",
    " count=0\n",
    " while temp>0:\n",
    "    digit=temp%10\n",
    "    sum=sum+digit**order\n",
    "    temp=temp//10\n",
    "    if sum==num:\n",
    "        print (num)\n",
    "        count=count+1\n",
    "        break\n",
    " num=num+1\n",
    " if count>0:\n",
    "        break\n",
    " "
   ]
  },
  {
   "cell_type": "code",
   "execution_count": null,
   "metadata": {},
   "outputs": [],
   "source": []
  },
  {
   "cell_type": "code",
   "execution_count": null,
   "metadata": {},
   "outputs": [],
   "source": []
  }
 ],
 "metadata": {
  "kernelspec": {
   "display_name": "Python 3",
   "language": "python",
   "name": "python3"
  }
 },
 "nbformat": 4,
 "nbformat_minor": 4
}

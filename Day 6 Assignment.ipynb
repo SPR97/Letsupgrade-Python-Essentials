{
 "cells": [
  {
   "cell_type": "code",
   "execution_count": 89,
   "metadata": {},
   "outputs": [],
   "source": [
    "class Bank_Account(): \n",
    "    def __init__(self,name,balance):\n",
    "        self.name=name\n",
    "        self.balance=balance\n",
    "    def getDetails(self):\n",
    "        print(\"name\",self.name)\n",
    "        print(\"balance\",self.balance)\n",
    "    def deposit(self): \n",
    "        amount=float(input(\"Enter amount to be Deposited: \")) \n",
    "        self.balance += amount \n",
    "        print(\"\\n Amount Deposited:\",amount) \n",
    "        print(\"\\n Available Balance=\",self.balance) \n",
    "    def withdraw(self): \n",
    "        amount = float(input(\"Enter amount to be Withdrawn: \")) \n",
    "        if self.balance>=amount: \n",
    "            self.balance-=amount \n",
    "            print(\"\\n You Withdrew:\", amount)\n",
    "            print(\"\\n Available Balance=\",self.balance) \n",
    "        else: \n",
    "            print(\"\\n Insufficient balance  \")    \n",
    "  "
   ]
  },
  {
   "cell_type": "code",
   "execution_count": 90,
   "metadata": {},
   "outputs": [],
   "source": [
    "s=Bank_Account(\"Sonali\",15000)\n"
   ]
  },
  {
   "cell_type": "code",
   "execution_count": 91,
   "metadata": {},
   "outputs": [
    {
     "name": "stdout",
     "output_type": "stream",
     "text": [
      "name Sonali\n",
      "balance 15000\n"
     ]
    }
   ],
   "source": [
    "s.getDetails()"
   ]
  },
  {
   "cell_type": "code",
   "execution_count": 92,
   "metadata": {},
   "outputs": [
    {
     "name": "stdout",
     "output_type": "stream",
     "text": [
      "Enter amount to be Deposited: 1000\n",
      "\n",
      " Amount Deposited: 1000.0\n",
      "\n",
      " Available Balance= 16000.0\n"
     ]
    }
   ],
   "source": [
    "s.deposit()"
   ]
  },
  {
   "cell_type": "code",
   "execution_count": 93,
   "metadata": {},
   "outputs": [
    {
     "name": "stdout",
     "output_type": "stream",
     "text": [
      "Enter amount to be Withdrawn: 500\n",
      "\n",
      " You Withdrew: 500.0\n",
      "\n",
      " Available Balance= 15500.0\n"
     ]
    }
   ],
   "source": [
    "s.withdraw()"
   ]
  },
  {
   "cell_type": "code",
   "execution_count": 94,
   "metadata": {},
   "outputs": [
    {
     "name": "stdout",
     "output_type": "stream",
     "text": [
      "Enter amount to be Withdrawn: 20000\n",
      "\n",
      " Insufficient balance  \n"
     ]
    }
   ],
   "source": [
    "s.withdraw()\n"
   ]
  },
  {
   "cell_type": "code",
   "execution_count": 84,
   "metadata": {},
   "outputs": [],
   "source": [
    "class cone(): \n",
    "    def __init__(self,radius,height):\n",
    "        self.radius=radius\n",
    "        self.height=height\n",
    "    def getDetails(self):\n",
    "        print(\"radius\",self.radius)\n",
    "        print(\"height\",self.height)\n",
    "    \n",
    "    def volume(self):\n",
    "        import math\n",
    "        radius=self.radius\n",
    "        height=self.height\n",
    "        Volume = (1.0/3) * math.pi * radius * radius * height\n",
    "        print(\"The Volume of a Cone = %.2f\" %Volume)\n",
    "    def surfacearea(self):\n",
    "        import math\n",
    "        radius=self.radius\n",
    "        height=self.height\n",
    "        SA = math.pi * radius * (radius + math.sqrt((height*height)+(radius*radius)))\n",
    "        print(\"The Surface Area of a Cone = %.2f \" %SA)\n",
    "\n"
   ]
  },
  {
   "cell_type": "code",
   "execution_count": 85,
   "metadata": {},
   "outputs": [],
   "source": [
    "x=cone(4.0,5.0)\n"
   ]
  },
  {
   "cell_type": "code",
   "execution_count": 86,
   "metadata": {},
   "outputs": [
    {
     "name": "stdout",
     "output_type": "stream",
     "text": [
      "radius 4.0\n",
      "height 5.0\n",
      "The Volume of a Cone = 83.78\n",
      "The Surface Area of a Cone = 130.73 \n"
     ]
    }
   ],
   "source": [
    "x.getDetails()\n",
    "x.volume()\n",
    "x.surfacearea()"
   ]
  },
  {
   "cell_type": "code",
   "execution_count": null,
   "metadata": {},
   "outputs": [],
   "source": []
  }
 ],
 "metadata": {
  "kernelspec": {
   "display_name": "Python 3",
   "language": "python",
   "name": "python3"
  },
  "language_info": {
   "codemirror_mode": {
    "name": "ipython",
    "version": 3
   },
   "file_extension": ".py",
   "mimetype": "text/x-python",
   "name": "python",
   "nbconvert_exporter": "python",
   "pygments_lexer": "ipython3",
   "version": "3.8.3"
  }
 },
 "nbformat": 4,
 "nbformat_minor": 4
}
